{
 "cells": [
  {
   "cell_type": "code",
   "execution_count": null,
   "id": "dd6ce50a",
   "metadata": {},
   "outputs": [],
   "source": [
    "from pynq import Overlay\n",
    "from pynq import MMIO\n",
    "import time\n",
    "\n",
    "ol = Overlay('top_wrapper.xsa')\n",
    "ol.ip_dict.keys()"
   ]
  },
  {
   "cell_type": "code",
   "execution_count": null,
   "id": "e9fd1f79",
   "metadata": {},
   "outputs": [],
   "source": [
    "ol.ip_dict['axi_quad_spi_0']"
   ]
  },
  {
   "cell_type": "code",
   "execution_count": null,
   "id": "dc90b11f",
   "metadata": {},
   "outputs": [],
   "source": [
    "# 初始化 AXI Quad SPI 的 base address（從 Vivado Address Editor 抓）\n",
    "spi = MMIO(0x41E00000, 0x10000)\n",
    "\n",
    "# SPI 寄存器 offset 定義（根據 PG153）\n",
    "SPICR  = 0x60  # 控制暫存器\n",
    "SPISR  = 0x64  # 狀態暫存器\n",
    "SPIDTR = 0x68  # 傳送資料暫存器\n",
    "SPIDRR = 0x6C  # 接收資料暫存器\n",
    "SPISSR = 0x70  # Slave Select 設定暫存器\n",
    "SPISRR = 0x40  # 軟體重置暫存器\n",
    "\n",
    "# -------------------------------\n",
    "# Step 1️⃣ Reset SPI core\n",
    "# -------------------------------\n",
    "spi.write(SPISRR, 0x0A)  # 根據 PG153，寫入 0x0A 觸發 reset\n",
    "\n",
    "# -------------------------------\n",
    "# Step 2️⃣ SPI 初始化：啟用 Master 模式 & Manual SS 模式\n",
    "# -------------------------------\n",
    "# Bit 1 = SPE (SPI Enable)\n",
    "# Bit 2 = Master mode\n",
    "# Bit 7 = Manual Slave Select (使用 SPISSR 控制 /CS)\n",
    "spi.write(SPICR, (1 << 2) | (1 << 1) | (1 << 7))  # = 0b10000110 = 0x86\n",
    "\n",
    "# -------------------------------\n",
    "# Step 3️⃣ 啟用 slave：拉低 /CS（CS 為 active-low）\n",
    "# -------------------------------\n",
    "spi.write(SPISSR, 0x0)  # 選擇 slave 0（拉低片選）\n",
    "\n",
    "# -------------------------------\n",
    "# Step 4️⃣ 清空 RX FIFO（避免先前雜訊）\n",
    "# -------------------------------\n",
    "while not (spi.read(SPISR) & 0x01):  # Bit 0 = RX_Empty，0 表 FIFO 有資料\n",
    "    spi.read(SPIDRR)  # 丟棄先前資料\n",
    "\n",
    "# -------------------------------\n",
    "# Step 5️⃣ 發送 JEDEC ID 指令（0x9F）\n",
    "# -------------------------------\n",
    "spi.write(SPIDTR, 0x9F)  # 發送 0x9F，要求 JEDEC ID\n",
    "while spi.read(SPISR) & 0x01: pass  # 等待接收完成\n",
    "spi.read(SPIDRR)  # 丟掉回傳的 0x9F 應答（無意義）\n",
    "\n",
    "# -------------------------------\n",
    "# Step 6️⃣ 發送 dummy byte 觸發接收 JEDEC 回應\n",
    "# -------------------------------\n",
    "jedec_id = []\n",
    "for _ in range(3):  # JEDEC ID 通常為 3 bytes\n",
    "    spi.write(SPIDTR, 0x00)  # 發送 dummy byte\n",
    "    while spi.read(SPISR) & 0x01:  # 等待接收有效資料\n",
    "        pass\n",
    "    data = spi.read(SPIDRR) & 0xFF  # 只取 8-bit\n",
    "    jedec_id.append(data)\n",
    "\n",
    "# -------------------------------\n",
    "# Step 7️⃣ 顯示結果\n",
    "# -------------------------------\n",
    "print(\"JEDEC ID:\", jedec_id)\n",
    "\n",
    "# ✅ 你讀到的 [0xEF, 0x40, 0x18] 解釋如下：\n",
    "# Byte 十進位 十六進位 說明\n",
    "# 1    239    0xEF    Winbond 廠商 ID\n",
    "# 2    64     0x40    SPI NOR Flash\n",
    "# 3    24     0x18    128Mbit = 16MB 容量\n"
   ]
  },
  {
   "cell_type": "code",
   "execution_count": null,
   "id": "3735a277",
   "metadata": {},
   "outputs": [],
   "source": []
  }
 ],
 "metadata": {
  "kernelspec": {
   "display_name": "Python 3 (ipykernel)",
   "language": "python",
   "name": "python3"
  },
  "language_info": {
   "codemirror_mode": {
    "name": "ipython",
    "version": 3
   },
   "file_extension": ".py",
   "mimetype": "text/x-python",
   "name": "python",
   "nbconvert_exporter": "python",
   "pygments_lexer": "ipython3",
   "version": "3.10.4"
  }
 },
 "nbformat": 4,
 "nbformat_minor": 5
}
