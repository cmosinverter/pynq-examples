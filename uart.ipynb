{
 "cells": [
  {
   "cell_type": "code",
   "execution_count": null,
   "id": "f782123f",
   "metadata": {},
   "outputs": [],
   "source": [
    "from pynq import Overlay\n",
    "from pynq import MMIO\n",
    "import time\n",
    "\n",
    "def bcd_to_int(bcd):\n",
    "    return ((bcd >> 4) * 10) + (bcd & 0x0F)"
   ]
  },
  {
   "cell_type": "code",
   "execution_count": null,
   "id": "2dfad7c5",
   "metadata": {},
   "outputs": [],
   "source": [
    "ol = Overlay('top_wrapper.xsa')"
   ]
  },
  {
   "cell_type": "code",
   "execution_count": null,
   "id": "2db0d5e1",
   "metadata": {},
   "outputs": [],
   "source": [
    "ol.ip_dict.keys()"
   ]
  },
  {
   "cell_type": "code",
   "execution_count": null,
   "id": "c05c1327",
   "metadata": {},
   "outputs": [],
   "source": [
    "ol.ip_dict['axi_uartlite_0']"
   ]
  },
  {
   "cell_type": "code",
   "execution_count": null,
   "id": "551dadd3",
   "metadata": {
    "scrolled": true
   },
   "outputs": [],
   "source": [
    "class UartAXI:\n",
    "    RX_FIFO = 0x00\n",
    "    TX_FIFO = 0x04\n",
    "    STAT_REG = 0x08\n",
    "    CTRL_REG = 0x0C\n",
    "\n",
    "    RX_VALID = 0\n",
    "    RX_FULL = 1\n",
    "    TX_EMPTY = 2\n",
    "    TX_FULL = 3\n",
    "    IS_INTR = 4\n",
    "    OVERRUN_ERR = 5\n",
    "    FRAME_ERR = 6\n",
    "    PARITY_ERR = 7\n",
    "\n",
    "    RST_TX = 0\n",
    "    RST_RX = 1\n",
    "    INTR_EN = 4\n",
    "\n",
    "    def __init__(self, address):\n",
    "        self.uart = MMIO(address, 0x10000, debug=False)\n",
    "        self.address = address\n",
    "\n",
    "    def setupCtrlReg(self):\n",
    "        # Reset FIFO\n",
    "        self.uart.write(self.CTRL_REG, (1 << self.RST_TX) | (1 << self.RST_RX))\n",
    "        time.sleep(0.001)\n",
    "        self.uart.write(self.CTRL_REG, 0)\n",
    "\n",
    "    def read(self, count, timeout=10):\n",
    "        buf = bytearray()\n",
    "        stop_time = time.time() + timeout\n",
    "        for _ in range(count):\n",
    "            while not (self.uart.read(self.STAT_REG) & (1 << self.RX_VALID)) and time.time() < stop_time:\n",
    "                pass\n",
    "            if time.time() >= stop_time:\n",
    "                break\n",
    "            buf.append(self.uart.read(self.RX_FIFO) & 0xFF)\n",
    "        return bytes(buf)\n",
    "\n",
    "    def write(self, buf, timeout=10):\n",
    "        if isinstance(buf, str):\n",
    "            buf = buf.encode()\n",
    "\n",
    "        stop_time = time.time() + timeout\n",
    "        wr_count = 0\n",
    "        for b in buf:\n",
    "            while not (self.uart.read(self.STAT_REG) & (1 << self.TX_EMPTY)):\n",
    "                if time.time() > stop_time:\n",
    "                    break\n",
    "            self.uart.write(self.TX_FIFO, b & 0xFF)  # 確保寫入 8-bit\n",
    "            wr_count += 1\n",
    "        return wr_count\n"
   ]
  },
  {
   "cell_type": "code",
   "execution_count": null,
   "id": "bb9ecc37",
   "metadata": {},
   "outputs": [],
   "source": [
    "address = 0x42C00000\n",
    "uart = UartAXI(address)\n",
    "# Setup AXI UART register\n",
    "uart.setupCtrlReg()"
   ]
  },
  {
   "cell_type": "code",
   "execution_count": null,
   "id": "e09c77c6",
   "metadata": {},
   "outputs": [],
   "source": [
    "uart.write('HELLO\\r\\n')"
   ]
  },
  {
   "cell_type": "code",
   "execution_count": null,
   "id": "bda65d42",
   "metadata": {},
   "outputs": [],
   "source": []
  },
  {
   "cell_type": "code",
   "execution_count": null,
   "id": "6f69b44f",
   "metadata": {},
   "outputs": [],
   "source": []
  }
 ],
 "metadata": {
  "kernelspec": {
   "display_name": "Python 3 (ipykernel)",
   "language": "python",
   "name": "python3"
  },
  "language_info": {
   "codemirror_mode": {
    "name": "ipython",
    "version": 3
   },
   "file_extension": ".py",
   "mimetype": "text/x-python",
   "name": "python",
   "nbconvert_exporter": "python",
   "pygments_lexer": "ipython3",
   "version": "3.10.4"
  }
 },
 "nbformat": 4,
 "nbformat_minor": 5
}
