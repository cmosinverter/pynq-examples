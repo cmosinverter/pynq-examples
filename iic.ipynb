{
 "cells": [
  {
   "cell_type": "code",
   "execution_count": null,
   "id": "ad2e29c4",
   "metadata": {},
   "outputs": [],
   "source": [
    "from pynq import Overlay\n",
    "from pynq import MMIO\n",
    "from pynq.lib.iic import AxiIIC\n",
    "import time\n",
    "\n",
    "ol = Overlay('top_wrapper.xsa')\n",
    "ol.ip_dict.keys()"
   ]
  },
  {
   "cell_type": "code",
   "execution_count": null,
   "id": "308bfdce",
   "metadata": {},
   "outputs": [],
   "source": [
    "ol.ip_dict['axi_iic_0']"
   ]
  },
  {
   "cell_type": "code",
   "execution_count": null,
   "id": "a0df8a5e",
   "metadata": {},
   "outputs": [],
   "source": [
    "iic = AxiIIC(ol.ip_dict['axi_iic_0'])"
   ]
  },
  {
   "cell_type": "code",
   "execution_count": null,
   "id": "7c9fb683",
   "metadata": {},
   "outputs": [],
   "source": [
    "# BCD to int conversion\n",
    "def bcd_to_int(bcd):\n",
    "    return ((bcd >> 4) * 10) + (bcd & 0x0F)\n",
    "\n",
    "rx_data = bytes(7)\n",
    "\n",
    "# Set register pointer to 0x00\n",
    "iic.send(0x68, bytes([0x00]), 1)\n",
    "# Read 7 bytes\n",
    "iic.receive(0x68, rx_data, 7)\n",
    "\n",
    "rx_data\n",
    "\n",
    "# Decode time\n",
    "seconds = bcd_to_int(rx_data[0])\n",
    "minutes = bcd_to_int(rx_data[1])\n",
    "hours   = bcd_to_int(rx_data[2] & 0x3F)\n",
    "day     = bcd_to_int(rx_data[3])\n",
    "date    = bcd_to_int(rx_data[4])\n",
    "month   = bcd_to_int(rx_data[5] & 0x1F)\n",
    "year    = bcd_to_int(rx_data[6]) + 2000\n",
    "\n",
    "# Print result\n",
    "print(f\"Date: {year:04d}-{month:02d}-{date:02d}\")\n",
    "print(f\"Time: {hours:02d}:{minutes:02d}:{seconds:02d}\")\n"
   ]
  }
 ],
 "metadata": {
  "kernelspec": {
   "display_name": "Python 3 (ipykernel)",
   "language": "python",
   "name": "python3"
  },
  "language_info": {
   "codemirror_mode": {
    "name": "ipython",
    "version": 3
   },
   "file_extension": ".py",
   "mimetype": "text/x-python",
   "name": "python",
   "nbconvert_exporter": "python",
   "pygments_lexer": "ipython3",
   "version": "3.10.4"
  }
 },
 "nbformat": 4,
 "nbformat_minor": 5
}
